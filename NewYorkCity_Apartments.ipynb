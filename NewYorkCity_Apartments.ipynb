{
 "cells": [
  {
   "cell_type": "markdown",
   "metadata": {
    "tags": []
   },
   "source": [
    "## DAB200 -- Graded Lab 1\n",
    "\n",
    "In this lab, you will gain some experience in using our own **DT** with a real a dataset.\n",
    "\n",
    "**Overall Objective**: Create a model that predicts rent prices as well as possible for typical New York City apartments."
   ]
  },
  {
   "cell_type": "markdown",
   "metadata": {},
   "source": [
    "**Data set**: make sure you use the data with the same number as your group number!\n",
    "\n",
    "| Group | Data set |\n",
    "| :-: | :-: |\n",
    "| 1 | rent_1.csv |\n",
    "| 2 | rent_2.csv |\n",
    "| etc. | etc. |\n",
    "\n",
    "**Important Notes:**\n",
    " - This lab is more open-ended so be prepared to think on your own, in a logical way, in order to solve the problem at hand\n",
    "     - You should be able to support any decision you make with logical evidence\n",
    " - The data looks like the data we have been using in class but it has other **surprises**\n",
    "     - Be sure to only use these features : \n",
    "         - bathrooms\n",
    "         - bedrooms\n",
    "         - num_desc_words\n",
    "         - price\n",
    " - Code submitted for this lab should be:\n",
    "     - error free\n",
    "         - to make sure this is the case, before submitting, close all Jupyter notebooks, exit Anaconda, reload the lab notebook and execute all cells\n",
    "     - final code\n",
    "         - this means that I don't want to see every piece of code you try as you work through this lab but only the final code; only the code that fulfills the objective\n",
    " - Don't make assumptions!\n",
    "\n",
    "I have broken the lab down into 4 main parts. "
   ]
  },
  {
   "cell_type": "markdown",
   "metadata": {},
   "source": [
    "### Part 0\n",
    "\n",
    "Please provide the following information:\n",
    " - Group Number: 3\n",
    " - Group Members\n",
    "     - Narisetty Nrupendra Kumar (0836757)\n",
    "     - VijayKanth Panneerselvam (0850006)\n",
    "\n",
    "     "
   ]
  },
  {
   "cell_type": "markdown",
   "metadata": {},
   "source": [
    "### Part 1 - Find the best splits points for each feaure\n",
    "#### Using the provided code in class, find the best feature and best split points\n",
    "#### Code (15 marks)"
   ]
  },
  {
   "cell_type": "code",
   "execution_count": 36,
   "metadata": {},
   "outputs": [],
   "source": [
    "import pandas as pd\n",
    "import numpy as np"
   ]
  },
  {
   "cell_type": "code",
   "execution_count": 25,
   "metadata": {},
   "outputs": [
    {
     "data": {
      "text/plain": [
       "(20000, 15)"
      ]
     },
     "execution_count": 25,
     "metadata": {},
     "output_type": "execute_result"
    }
   ],
   "source": [
    "# Read data\n",
    "data = pd.read_csv(\"rent_3(1).csv\")\n",
    "data.shape"
   ]
  },
  {
   "cell_type": "code",
   "execution_count": 26,
   "metadata": {},
   "outputs": [
    {
     "data": {
      "text/html": [
       "<div>\n",
       "<style scoped>\n",
       "    .dataframe tbody tr th:only-of-type {\n",
       "        vertical-align: middle;\n",
       "    }\n",
       "\n",
       "    .dataframe tbody tr th {\n",
       "        vertical-align: top;\n",
       "    }\n",
       "\n",
       "    .dataframe thead th {\n",
       "        text-align: right;\n",
       "    }\n",
       "</style>\n",
       "<table border=\"1\" class=\"dataframe\">\n",
       "  <thead>\n",
       "    <tr style=\"text-align: right;\">\n",
       "      <th></th>\n",
       "      <th>bathrooms</th>\n",
       "      <th>bedrooms</th>\n",
       "      <th>building_id</th>\n",
       "      <th>created</th>\n",
       "      <th>description</th>\n",
       "      <th>display_address</th>\n",
       "      <th>features</th>\n",
       "      <th>latitude</th>\n",
       "      <th>longitude</th>\n",
       "      <th>manager_id</th>\n",
       "      <th>photos</th>\n",
       "      <th>price</th>\n",
       "      <th>street_address</th>\n",
       "      <th>interest_level</th>\n",
       "      <th>num_desc_words</th>\n",
       "    </tr>\n",
       "  </thead>\n",
       "  <tbody>\n",
       "    <tr>\n",
       "      <th>0</th>\n",
       "      <td>1.0</td>\n",
       "      <td>3</td>\n",
       "      <td>0</td>\n",
       "      <td>2016-06-15 01:17:41</td>\n",
       "      <td>Large renovated three bedrooms apartment locat...</td>\n",
       "      <td>West 176th Street</td>\n",
       "      <td>['Pre-War', 'Dogs Allowed', 'Cats Allowed']</td>\n",
       "      <td>40.8472</td>\n",
       "      <td>-73.9391</td>\n",
       "      <td>e8be88fd4ed2b9a12dca618d5e850ae9</td>\n",
       "      <td>[]</td>\n",
       "      <td>2750</td>\n",
       "      <td>709 West 176th Street</td>\n",
       "      <td>1</td>\n",
       "      <td>36</td>\n",
       "    </tr>\n",
       "    <tr>\n",
       "      <th>1</th>\n",
       "      <td>1.0</td>\n",
       "      <td>0</td>\n",
       "      <td>0</td>\n",
       "      <td>2016-04-22 01:29:25</td>\n",
       "      <td>NEW TO MARKET! Gorgeously bright studio apartm...</td>\n",
       "      <td>East 35th Street</td>\n",
       "      <td>['Doorman', 'Dogs Allowed', 'Cats Allowed']</td>\n",
       "      <td>40.7466</td>\n",
       "      <td>-73.9779</td>\n",
       "      <td>35dc123b6f5f9ea6d7b755f21b9c3585</td>\n",
       "      <td>['https://photos.renthop.com/2/6909582_0a7cbc3...</td>\n",
       "      <td>2600</td>\n",
       "      <td>165 East 35th Street</td>\n",
       "      <td>1</td>\n",
       "      <td>112</td>\n",
       "    </tr>\n",
       "    <tr>\n",
       "      <th>2</th>\n",
       "      <td>1.0</td>\n",
       "      <td>1</td>\n",
       "      <td>f115a9bff3a9c4e6eedc9114374b3d74</td>\n",
       "      <td>2016-06-21 06:14:22</td>\n",
       "      <td>** LOW FEE**Spacious one bedroom apartment loc...</td>\n",
       "      <td>East 79th Street</td>\n",
       "      <td>['Dining Room', 'Doorman', 'Elevator', 'Dishwa...</td>\n",
       "      <td>40.7716</td>\n",
       "      <td>-73.9506</td>\n",
       "      <td>9cee949b9ac057ebe8b66b9e76d16a2c</td>\n",
       "      <td>['https://photos.renthop.com/2/7192918_dab1037...</td>\n",
       "      <td>3225</td>\n",
       "      <td>435 East 79th Street</td>\n",
       "      <td>1</td>\n",
       "      <td>108</td>\n",
       "    </tr>\n",
       "    <tr>\n",
       "      <th>3</th>\n",
       "      <td>1.0</td>\n",
       "      <td>1</td>\n",
       "      <td>5565db9b7cba3603834c4aa6f2950960</td>\n",
       "      <td>2016-05-11 04:10:20</td>\n",
       "      <td>Best priced 1 Bedroom Apartment features Spaci...</td>\n",
       "      <td>Broadway</td>\n",
       "      <td>['Hardwood Floors', 'No Fee']</td>\n",
       "      <td>40.8198</td>\n",
       "      <td>-73.9578</td>\n",
       "      <td>b30e2c6e6846c8d6151ac13a6ae18de1</td>\n",
       "      <td>['https://photos.renthop.com/2/6994893_c1f3206...</td>\n",
       "      <td>1955</td>\n",
       "      <td>3333 Broadway</td>\n",
       "      <td>1</td>\n",
       "      <td>91</td>\n",
       "    </tr>\n",
       "    <tr>\n",
       "      <th>4</th>\n",
       "      <td>3.0</td>\n",
       "      <td>2</td>\n",
       "      <td>013a96b772f0e46731faee50ad25d727</td>\n",
       "      <td>2016-04-24 01:20:03</td>\n",
       "      <td>No Fee 2 Bedroom in the Heart of Williamsburg ...</td>\n",
       "      <td>North 6th Street</td>\n",
       "      <td>['No Fee']</td>\n",
       "      <td>40.7161</td>\n",
       "      <td>-73.9562</td>\n",
       "      <td>8d019274c99d5a169fc5bce05a6934fd</td>\n",
       "      <td>['https://photos.renthop.com/2/6917330_20b270b...</td>\n",
       "      <td>5700</td>\n",
       "      <td>207 North 6th Street</td>\n",
       "      <td>1</td>\n",
       "      <td>173</td>\n",
       "    </tr>\n",
       "  </tbody>\n",
       "</table>\n",
       "</div>"
      ],
      "text/plain": [
       "   bathrooms  bedrooms                       building_id              created  \\\n",
       "0        1.0         3                                 0  2016-06-15 01:17:41   \n",
       "1        1.0         0                                 0  2016-04-22 01:29:25   \n",
       "2        1.0         1  f115a9bff3a9c4e6eedc9114374b3d74  2016-06-21 06:14:22   \n",
       "3        1.0         1  5565db9b7cba3603834c4aa6f2950960  2016-05-11 04:10:20   \n",
       "4        3.0         2  013a96b772f0e46731faee50ad25d727  2016-04-24 01:20:03   \n",
       "\n",
       "                                         description    display_address  \\\n",
       "0  Large renovated three bedrooms apartment locat...  West 176th Street   \n",
       "1  NEW TO MARKET! Gorgeously bright studio apartm...   East 35th Street   \n",
       "2  ** LOW FEE**Spacious one bedroom apartment loc...   East 79th Street   \n",
       "3  Best priced 1 Bedroom Apartment features Spaci...           Broadway   \n",
       "4  No Fee 2 Bedroom in the Heart of Williamsburg ...   North 6th Street   \n",
       "\n",
       "                                            features  latitude  longitude  \\\n",
       "0        ['Pre-War', 'Dogs Allowed', 'Cats Allowed']   40.8472   -73.9391   \n",
       "1        ['Doorman', 'Dogs Allowed', 'Cats Allowed']   40.7466   -73.9779   \n",
       "2  ['Dining Room', 'Doorman', 'Elevator', 'Dishwa...   40.7716   -73.9506   \n",
       "3                      ['Hardwood Floors', 'No Fee']   40.8198   -73.9578   \n",
       "4                                         ['No Fee']   40.7161   -73.9562   \n",
       "\n",
       "                         manager_id  \\\n",
       "0  e8be88fd4ed2b9a12dca618d5e850ae9   \n",
       "1  35dc123b6f5f9ea6d7b755f21b9c3585   \n",
       "2  9cee949b9ac057ebe8b66b9e76d16a2c   \n",
       "3  b30e2c6e6846c8d6151ac13a6ae18de1   \n",
       "4  8d019274c99d5a169fc5bce05a6934fd   \n",
       "\n",
       "                                              photos  price  \\\n",
       "0                                                 []   2750   \n",
       "1  ['https://photos.renthop.com/2/6909582_0a7cbc3...   2600   \n",
       "2  ['https://photos.renthop.com/2/7192918_dab1037...   3225   \n",
       "3  ['https://photos.renthop.com/2/6994893_c1f3206...   1955   \n",
       "4  ['https://photos.renthop.com/2/6917330_20b270b...   5700   \n",
       "\n",
       "          street_address  interest_level  num_desc_words  \n",
       "0  709 West 176th Street               1              36  \n",
       "1   165 East 35th Street               1             112  \n",
       "2   435 East 79th Street               1             108  \n",
       "3          3333 Broadway               1              91  \n",
       "4   207 North 6th Street               1             173  "
      ]
     },
     "execution_count": 26,
     "metadata": {},
     "output_type": "execute_result"
    }
   ],
   "source": [
    "data.head()"
   ]
  },
  {
   "cell_type": "code",
   "execution_count": 28,
   "metadata": {},
   "outputs": [],
   "source": [
    "# Defining features\n",
    "features = ['bathrooms', 'bedrooms', 'num_desc_words', 'price']\n",
    "data = data[features]"
   ]
  },
  {
   "cell_type": "code",
   "execution_count": 29,
   "metadata": {},
   "outputs": [],
   "source": [
    "# Calculate MSE function\n",
    "def calculate_mse(feature, split_point):\n",
    "    left_subset = data[data[feature] <= split_point]\n",
    "    right_subset = data[data[feature] > split_point]\n",
    "    left_mean, right_mean = left_subset['price'].mean(), right_subset['price'].mean()\n",
    "    left_mse = ((left_subset['price'] - left_mean) ** 2).mean()\n",
    "    right_mse = ((right_subset['price'] - right_mean) ** 2).mean()\n",
    "    return left_mse + right_mse"
   ]
  },
  {
   "cell_type": "code",
   "execution_count": 30,
   "metadata": {},
   "outputs": [],
   "source": [
    "# Find best splits\n",
    "best_splits = {}\n",
    "for feature in features[:-1]:  \n",
    "    unique_values = data[feature].unique()\n",
    "    min_mse, best_split_point = float('inf'), None\n",
    "    for value in unique_values:\n",
    "        mse = calculate_mse(feature, value)\n",
    "        min_mse, best_split_point = (mse, value) if mse < min_mse else (min_mse, best_split_point)\n",
    "    best_splits[feature] = best_split_point"
   ]
  },
  {
   "cell_type": "code",
   "execution_count": 31,
   "metadata": {},
   "outputs": [
    {
     "name": "stdout",
     "output_type": "stream",
     "text": [
      "Best split points:\n",
      "bathrooms: 7.0\n",
      "bedrooms: 6\n",
      "num_desc_words: 494\n"
     ]
    }
   ],
   "source": [
    "# Print best split points\n",
    "print(\"Best split points:\")\n",
    "for feature, split_point in best_splits.items():\n",
    "    print(f\"{feature}: {split_point}\")"
   ]
  },
  {
   "cell_type": "markdown",
   "metadata": {},
   "source": [
    "#### Explanation (5 marks)\n",
    "\n",
    "Please provide an explanation and justification for the code submitted in **Part 1** in the context of the overall objective. "
   ]
  },
  {
   "cell_type": "markdown",
   "metadata": {},
   "source": [
    "The code selects features from a dataset and iterates over each feature to find the best split points that minimize the mean squared error when partitioning the dataset, then prints the best split points for each feature."
   ]
  },
  {
   "cell_type": "markdown",
   "metadata": {},
   "source": [
    "### Part 2 - First prediction\n",
    "\n",
    "#### Write a function to build a basic DT based on the best feature and best split point to predict the price for the incoming data. \n",
    "#### Make sure the prediction function can take any other feature.\n",
    "\n",
    "#### Code (25 marks)"
   ]
  },
  {
   "cell_type": "code",
   "execution_count": 7,
   "metadata": {},
   "outputs": [],
   "source": [
    "best_splits = {\n",
    "    'bathrooms': 7.0,\n",
    "    'bedrooms': 6,\n",
    "    'num_desc_words': 494,\n",
    "}"
   ]
  },
  {
   "cell_type": "code",
   "execution_count": 17,
   "metadata": {},
   "outputs": [
    {
     "name": "stdout",
     "output_type": "stream",
     "text": [
      "Predicted price category: Low\n"
     ]
    }
   ],
   "source": [
    "def predict_price(data_point, best_splits):\n",
    "    for feature, split_point in best_splits.items():\n",
    "        if data_point[feature] <= split_point:\n",
    "            return \"Low\"  \n",
    "        else:\n",
    "            return \"High\"\n",
    " \n",
    "\n",
    "prediction = predict_price(data_point, best_splits)\n",
    "print(\"Predicted price category:\",prediction)"
   ]
  },
  {
   "cell_type": "code",
   "execution_count": null,
   "metadata": {},
   "outputs": [],
   "source": []
  },
  {
   "cell_type": "markdown",
   "metadata": {},
   "source": [
    "### Part3 - Peer evaluation\n",
    "\n",
    "1. Split the data into training and test data.\n",
    "2. Make predictions using each of the three features.\n",
    "3. Calculate the Mean Squared Error (develop your version) for each feature.\n",
    "4. Discuss which feature performs the best and why.\n",
    "5. Compare the best feature in the training part with the best feature based on the prediction. Are they the same?\n",
    "\n",
    "#### Code (30 marks)"
   ]
  },
  {
   "cell_type": "code",
   "execution_count": 18,
   "metadata": {},
   "outputs": [],
   "source": [
    "from sklearn.model_selection import train_test_split\n",
    "from sklearn.metrics import mean_squared_error\n",
    "from sklearn.tree import DecisionTreeRegressor"
   ]
  },
  {
   "cell_type": "code",
   "execution_count": 19,
   "metadata": {},
   "outputs": [
    {
     "name": "stdout",
     "output_type": "stream",
     "text": [
      "MSE scores:\n",
      "bathrooms: 7652239.78388929\n",
      "bedrooms: 8364528.229158924\n",
      "num_desc_words: 11533217.096521705\n"
     ]
    }
   ],
   "source": [
    "# Part 3\n",
    "# Split the data into training and test data\n",
    "X_train, X_test, y_train, y_test = train_test_split(data.drop('price', axis=1), data['price'], test_size=0.2, random_state=42)\n",
    "\n",
    "# Calculate MSE function\n",
    "def calculate_mse(y_true, y_pred):\n",
    "    return ((y_true - y_pred) ** 2).mean()\n",
    "\n",
    "# Calculate MSE for each feature\n",
    "mse_scores = {}\n",
    "for feature in features[:-1]:\n",
    "    dt = DecisionTreeRegressor()\n",
    "    dt.fit(X_train[[feature]], y_train)\n",
    "    y_pred = dt.predict(X_test[[feature]])\n",
    "    mse_scores[feature] = calculate_mse(y_test, y_pred)\n",
    "\n",
    "# Print MSE scores\n",
    "print(\"MSE scores:\")\n",
    "for feature, mse in mse_scores.items():\n",
    "    print(f\"{feature}: {mse}\")\n"
   ]
  },
  {
   "cell_type": "code",
   "execution_count": 12,
   "metadata": {},
   "outputs": [
    {
     "name": "stdout",
     "output_type": "stream",
     "text": [
      "Best performing feature: bathrooms\n",
      "Best split feature: bedrooms\n"
     ]
    }
   ],
   "source": [
    "# Discuss which feature performs the best and why\n",
    "best_feature = min(mse_scores, key=mse_scores.get)\n",
    "print(f\"Best performing feature: {best_feature}\")\n",
    "\n",
    "# Compare the best feature in the training part with the best feature based on the prediction\n",
    "best_split_feature = min(best_splits, key=best_splits.get)\n",
    "print(f\"Best split feature: {best_split_feature}\")"
   ]
  },
  {
   "cell_type": "code",
   "execution_count": 41,
   "metadata": {},
   "outputs": [
    {
     "name": "stdout",
     "output_type": "stream",
     "text": [
      "Best split points:\n",
      "feature1: 5\n",
      "feature2: 5\n",
      "Predicted price category: Low\n"
     ]
    }
   ],
   "source": [
    "# Calculate MSE function\n",
    "def calculate_mse(data, feature, split_point):\n",
    "    left_mse, right_mse = 0, 0\n",
    "    left_count, right_count = 0, 0\n",
    "    left_sum, right_sum = 0, 0\n",
    "\n",
    "    for i in range(len(data[feature])):\n",
    "        if data[feature][i] <= split_point:\n",
    "            left_count += 1\n",
    "            left_sum += data['price'][i]\n",
    "        else:\n",
    "            right_count += 1\n",
    "            right_sum += data['price'][i]\n",
    "\n",
    "    left_mean = left_sum / left_count if left_count > 0 else 0\n",
    "    right_mean = right_sum / right_count if right_count > 0 else 0\n",
    "\n",
    "    for i in range(len(data[feature])):\n",
    "        if data[feature][i] <= split_point:\n",
    "            left_mse += (data['price'][i] - left_mean) ** 2\n",
    "        else:\n",
    "            right_mse += (data['price'][i] - right_mean) ** 2\n",
    "\n",
    "    left_mse /= left_count if left_count > 0 else 1\n",
    "    right_mse /= right_count if right_count > 0 else 1\n",
    "\n",
    "    return left_mse + right_mse\n",
    "\n",
    "# Find best splits\n",
    "best_splits = {}\n",
    "features = list(data.keys())[:-1]  # Exclude the 'price' column\n",
    "\n",
    "for feature in features:\n",
    "    unique_values = list(set(data[feature]))\n",
    "    min_mse, best_split_point = float('inf'), None\n",
    "    for value in unique_values:\n",
    "        mse = calculate_mse(data, feature, value)\n",
    "        if mse < min_mse:\n",
    "            min_mse = mse\n",
    "            best_split_point = value\n",
    "    best_splits[feature] = best_split_point\n",
    "\n",
    "# Print best split points\n",
    "print(\"Best split points:\")\n",
    "for feature, split_point in best_splits.items():\n",
    "    print(f\"{feature}: {split_point}\")\n",
    "\n",
    "# Define a data point for prediction\n",
    "data_point = {'feature1': 3, 'feature2': 8}\n",
    "\n",
    "def predict_price(data_point, best_splits):\n",
    "    for feature, split_point in best_splits.items():\n",
    "        if data_point[feature] <= split_point:\n",
    "            return \"Low\"\n",
    "        else:\n",
    "            return \"High\"\n",
    "\n",
    "prediction = predict_price(data_point, best_splits)\n",
    "print(\"Predicted price category:\", prediction)\n"
   ]
  },
  {
   "cell_type": "markdown",
   "metadata": {},
   "source": [
    "### Part 4 - Create and evaluate a final model\n",
    "\n",
    "####  Write a function to build a Decision Tree (DT) considering all features. You may stop branching based on arbitrary depth or a specified number of samples in each leaf. \n",
    "#### Evaluate the final model and check if is it worth considering all features.\n",
    "\n",
    "\n",
    "#### Code (35 marks) "
   ]
  },
  {
   "cell_type": "code",
   "execution_count": 23,
   "metadata": {},
   "outputs": [
    {
     "name": "stdout",
     "output_type": "stream",
     "text": [
      "MSE for the model considering all features: 3977818.694109995\n"
     ]
    }
   ],
   "source": [
    "def build_decision_tree_all_features(X_test, y_test):\n",
    "    dt = DecisionTreeRegressor()\n",
    "    dt.fit(X_test, y_test)\n",
    "    return dt\n",
    "\n",
    "# Evaluate the final model and check if is it worth considering all features\n",
    "dt_all_features = build_decision_tree_all_features(X_test, y_test)\n",
    "y_pred_all_features = dt_all_features.predict(X_test)\n",
    "mse_all_features = calculate_mse(y_test, y_pred_all_features)\n",
    "print(f\"MSE for the model considering all features: {mse_all_features}\")"
   ]
  },
  {
   "cell_type": "code",
   "execution_count": 22,
   "metadata": {},
   "outputs": [
    {
     "name": "stdout",
     "output_type": "stream",
     "text": [
      "MSE for the model considering all features: 1392692674.012042\n"
     ]
    }
   ],
   "source": [
    "# Write a function to build a Decision Tree (DT) considering all features\n",
    "def build_decision_tree_all_features(X_train, y_train):\n",
    "    dt = DecisionTreeRegressor()\n",
    "    dt.fit(X_train, y_train)\n",
    "    return dt\n",
    "\n",
    "# Evaluate the final model and check if is it worth considering all features\n",
    "dt_all_features = build_decision_tree_all_features(X_train, y_train)\n",
    "y_pred_all_features = dt_all_features.predict(X_train)\n",
    "mse_all_features = calculate_mse(y_train, y_pred_all_features)\n",
    "print(f\"MSE for the model considering all features: {mse_all_features}\")"
   ]
  },
  {
   "cell_type": "markdown",
   "metadata": {},
   "source": [
    "#### Explanation (5 marks)\n",
    "\n",
    "Please provide an explanation and justification for the code submitted in **Part 4** in the context of the overall objective. "
   ]
  },
  {
   "cell_type": "markdown",
   "metadata": {},
   "source": [
    "Here we are using the build_decision_tree_all_features function to obtain the trained Decision Tree model using all available features on the training data.\n",
    "It makes predictions on both the test and the train data using all the features in the respective train & test dataset.\n",
    "Next, it calculates the Mean Squared Error (MSE) between the predicted values y and the actual target values of y.\n",
    "Finally, it prints the MSE for the model considering all features."
   ]
  },
  {
   "cell_type": "code",
   "execution_count": null,
   "metadata": {},
   "outputs": [],
   "source": []
  }
 ],
 "metadata": {
  "kernelspec": {
   "display_name": "Python 3 (ipykernel)",
   "language": "python",
   "name": "python3"
  },
  "language_info": {
   "codemirror_mode": {
    "name": "ipython",
    "version": 3
   },
   "file_extension": ".py",
   "mimetype": "text/x-python",
   "name": "python",
   "nbconvert_exporter": "python",
   "pygments_lexer": "ipython3",
   "version": "3.11.7"
  }
 },
 "nbformat": 4,
 "nbformat_minor": 4
}
